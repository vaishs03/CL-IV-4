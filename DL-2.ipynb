{
 "cells": [
  {
   "cell_type": "code",
   "execution_count": null,
   "id": "0f38c30d-0260-4219-b807-b314138703d9",
   "metadata": {},
   "outputs": [],
   "source": [
    "'''2. Build a Multiclass classifier using the CNN model. Use MNIST or any other suitable dataset. a.\n",
    "Perform Data Pre-processing b. Define Model and perform training c. Evaluate Results using confusion\n",
    "matrix.'''"
   ]
  },
  {
   "cell_type": "code",
   "execution_count": 8,
   "id": "6422c22a-ee60-4e7a-b726-43595aa2c96f",
   "metadata": {},
   "outputs": [],
   "source": [
    "# Import necessary libraries\n",
    "import numpy as np\n",
    "import matplotlib.pyplot as plt\n",
    "from keras.datasets import mnist\n",
    "from keras.models import Sequential\n",
    "from keras.layers import Conv2D, MaxPooling2D, Flatten, Dense, Dropout\n",
    "from keras.utils import to_categorical\n",
    "from sklearn.metrics import confusion_matrix, classification_report\n",
    "import seaborn as sns"
   ]
  },
  {
   "cell_type": "code",
   "execution_count": 9,
   "id": "dd207ed8-5309-48b8-a814-e1991542b5d3",
   "metadata": {},
   "outputs": [
    {
     "name": "stdout",
     "output_type": "stream",
     "text": [
      "Downloading data from https://storage.googleapis.com/tensorflow/tf-keras-datasets/mnist.npz\n",
      "11490434/11490434 [==============================] - 16s 1us/step\n"
     ]
    }
   ],
   "source": [
    "# Load and preprocess the MNIST dataset\n",
    "(x_train, y_train), (x_test, y_test) = mnist.load_data()"
   ]
  },
  {
   "cell_type": "code",
   "execution_count": 10,
   "id": "5c776f48-f0f9-490a-a415-7388fda1f0c0",
   "metadata": {},
   "outputs": [],
   "source": [
    "from tensorflow.keras.datasets import mnist\n",
    "\n",
    "# Load dataset\n",
    "(x_train, y_train), (x_test, y_test) = mnist.load_data()\n",
    "\n",
    "# Optional: Reduce dataset size to prevent MemoryError\n",
    "x_train = x_train[:10000]\n",
    "y_train = y_train[:10000]\n",
    "x_test = x_test[:2000]\n",
    "y_test = y_test[:2000]\n",
    "\n",
    "# Reshape and normalize\n",
    "x_train = x_train.reshape(-1, 28, 28, 1).astype('float32') / 255\n",
    "x_test = x_test.reshape(-1, 28, 28, 1).astype('float32') / 255\n"
   ]
  },
  {
   "cell_type": "code",
   "execution_count": 11,
   "id": "c18fc568-946a-4472-950f-eac838b7735f",
   "metadata": {},
   "outputs": [],
   "source": [
    "# Convert labels to categorical one-hot encoding\n",
    "y_train = to_categorical(y_train, num_classes=10)\n",
    "y_test = to_categorical(y_test, num_classes=10)"
   ]
  },
  {
   "cell_type": "code",
   "execution_count": 12,
   "id": "84281866-be89-446b-aeb4-806902f188a9",
   "metadata": {},
   "outputs": [
    {
     "name": "stdout",
     "output_type": "stream",
     "text": [
      "WARNING:tensorflow:From C:\\New\\Lib\\site-packages\\keras\\src\\backend.py:873: The name tf.get_default_graph is deprecated. Please use tf.compat.v1.get_default_graph instead.\n",
      "\n",
      "WARNING:tensorflow:From C:\\New\\Lib\\site-packages\\keras\\src\\layers\\pooling\\max_pooling2d.py:161: The name tf.nn.max_pool is deprecated. Please use tf.nn.max_pool2d instead.\n",
      "\n"
     ]
    }
   ],
   "source": [
    "# Define the CNN model\n",
    "model = Sequential()\n",
    "model.add(Conv2D(32, kernel_size=(3, 3), activation='relu', input_shape=(28, 28, 1)))\n",
    "model.add(MaxPooling2D(pool_size=(2, 2)))\n",
    "model.add(Conv2D(64, kernel_size=(3, 3), activation='relu'))\n",
    "model.add(MaxPooling2D(pool_size=(2, 2)))\n",
    "model.add(Flatten())\n",
    "model.add(Dense(128, activation='relu'))\n",
    "model.add(Dropout(0.5))\n",
    "model.add(Dense(10, activation='softmax'))\n"
   ]
  },
  {
   "cell_type": "code",
   "execution_count": 13,
   "id": "5d0f14ee-a43a-4184-b064-14993fda4930",
   "metadata": {},
   "outputs": [
    {
     "name": "stdout",
     "output_type": "stream",
     "text": [
      "WARNING:tensorflow:From C:\\New\\Lib\\site-packages\\keras\\src\\optimizers\\__init__.py:309: The name tf.train.Optimizer is deprecated. Please use tf.compat.v1.train.Optimizer instead.\n",
      "\n"
     ]
    }
   ],
   "source": [
    "# Compile the model\n",
    "model.compile(optimizer='adam', loss='categorical_crossentropy', metrics=['accuracy'])"
   ]
  },
  {
   "cell_type": "code",
   "execution_count": 14,
   "id": "a596cd07-5ec4-417d-bbee-01797ddc5711",
   "metadata": {},
   "outputs": [
    {
     "name": "stdout",
     "output_type": "stream",
     "text": [
      "Epoch 1/10\n",
      "WARNING:tensorflow:From C:\\New\\Lib\\site-packages\\keras\\src\\utils\\tf_utils.py:492: The name tf.ragged.RaggedTensorValue is deprecated. Please use tf.compat.v1.ragged.RaggedTensorValue instead.\n",
      "\n",
      "WARNING:tensorflow:From C:\\New\\Lib\\site-packages\\keras\\src\\engine\\base_layer_utils.py:384: The name tf.executing_eagerly_outside_functions is deprecated. Please use tf.compat.v1.executing_eagerly_outside_functions instead.\n",
      "\n",
      "40/40 [==============================] - 4s 46ms/step - loss: 1.1454 - accuracy: 0.6426 - val_loss: 0.3879 - val_accuracy: 0.8895\n",
      "Epoch 2/10\n",
      "40/40 [==============================] - 1s 37ms/step - loss: 0.3566 - accuracy: 0.8936 - val_loss: 0.2417 - val_accuracy: 0.9235\n",
      "Epoch 3/10\n",
      "40/40 [==============================] - 2s 39ms/step - loss: 0.2439 - accuracy: 0.9285 - val_loss: 0.1974 - val_accuracy: 0.9415\n",
      "Epoch 4/10\n",
      "40/40 [==============================] - 1s 34ms/step - loss: 0.1825 - accuracy: 0.9451 - val_loss: 0.1660 - val_accuracy: 0.9520\n",
      "Epoch 5/10\n",
      "40/40 [==============================] - 1s 33ms/step - loss: 0.1586 - accuracy: 0.9513 - val_loss: 0.1462 - val_accuracy: 0.9580\n",
      "Epoch 6/10\n",
      "40/40 [==============================] - 1s 35ms/step - loss: 0.1349 - accuracy: 0.9614 - val_loss: 0.1322 - val_accuracy: 0.9645\n",
      "Epoch 7/10\n",
      "40/40 [==============================] - 2s 40ms/step - loss: 0.1249 - accuracy: 0.9636 - val_loss: 0.1377 - val_accuracy: 0.9620\n",
      "Epoch 8/10\n",
      "40/40 [==============================] - 2s 39ms/step - loss: 0.1039 - accuracy: 0.9693 - val_loss: 0.1176 - val_accuracy: 0.9670\n",
      "Epoch 9/10\n",
      "40/40 [==============================] - 1s 36ms/step - loss: 0.0933 - accuracy: 0.9711 - val_loss: 0.1191 - val_accuracy: 0.9660\n",
      "Epoch 10/10\n",
      "40/40 [==============================] - 1s 37ms/step - loss: 0.0880 - accuracy: 0.9735 - val_loss: 0.1023 - val_accuracy: 0.9660\n"
     ]
    }
   ],
   "source": [
    "# Train the model\n",
    "history = model.fit(x_train, y_train, epochs=10, batch_size=200, validation_split=0.2)"
   ]
  },
  {
   "cell_type": "code",
   "execution_count": 15,
   "id": "5d5e1d48-961e-4f93-b98a-3d8067893d22",
   "metadata": {},
   "outputs": [
    {
     "name": "stdout",
     "output_type": "stream",
     "text": [
      "Test loss: 0.09228865057229996\n",
      "Test accuracy: 0.9714999794960022\n"
     ]
    }
   ],
   "source": [
    "# Evaluate the model\n",
    "score = model.evaluate(x_test, y_test, verbose=0)\n",
    "print('Test loss:', score[0])\n",
    "print('Test accuracy:', score[1])"
   ]
  },
  {
   "cell_type": "code",
   "execution_count": 16,
   "id": "07258800-e056-4eb9-bc55-23214622fc6e",
   "metadata": {},
   "outputs": [
    {
     "name": "stdout",
     "output_type": "stream",
     "text": [
      "63/63 [==============================] - 1s 6ms/step\n"
     ]
    }
   ],
   "source": [
    "# Make predictions\n",
    "y_pred = model.predict(x_test)\n",
    "y_pred_classes = np.argmax(y_pred, axis=1)\n",
    "y_true = np.argmax(y_test, axis=1)"
   ]
  },
  {
   "cell_type": "code",
   "execution_count": 17,
   "id": "dc49c266-9627-4554-8036-b6d60260410d",
   "metadata": {},
   "outputs": [],
   "source": [
    "# Confusion matrix\n",
    "cm = confusion_matrix(y_true, y_pred_classes)"
   ]
  },
  {
   "cell_type": "code",
   "execution_count": 18,
   "id": "eba4eda0-92f8-4755-8f6c-ba401e841a62",
   "metadata": {},
   "outputs": [
    {
     "data": {
      "image/png": "[encoded data removed]",
      "text/plain": [
       "<Figure size 1000x700 with 2 Axes>"
      ]
     },
     "metadata": {},
     "output_type": "display_data"
    }
   ],
   "source": [
    "# Plot confusion matrix\n",
    "plt.figure(figsize=(10, 7))\n",
    "sns.heatmap(cm, annot=True, fmt='d', cmap='Blues', xticklabels=range(10), yticklabels=range(10))\n",
    "plt.ylabel('Actual')\n",
    "plt.xlabel('Predicted')\n",
    "plt.title('Confusion Matrix')\n",
    "plt.show()"
   ]
  },
  {
   "cell_type": "code",
   "execution_count": 19,
   "id": "cf90d6b3-7024-4e53-9e51-35c504c0503c",
   "metadata": {},
   "outputs": [
    {
     "name": "stdout",
     "output_type": "stream",
     "text": [
      "              precision    recall  f1-score   support\n",
      "\n",
      "           0       0.97      0.99      0.98       175\n",
      "           1       0.99      1.00      0.99       234\n",
      "           2       0.96      0.99      0.97       219\n",
      "           3       0.95      0.99      0.97       207\n",
      "           4       0.99      0.97      0.98       217\n",
      "           5       0.98      0.97      0.97       179\n",
      "           6       0.98      0.97      0.97       178\n",
      "           7       0.96      0.95      0.95       205\n",
      "           8       0.98      0.92      0.95       192\n",
      "           9       0.96      0.97      0.97       194\n",
      "\n",
      "    accuracy                           0.97      2000\n",
      "   macro avg       0.97      0.97      0.97      2000\n",
      "weighted avg       0.97      0.97      0.97      2000\n",
      "\n"
     ]
    }
   ],
   "source": [
    "# Classification report\n",
    "print(classification_report(y_true, y_pred_classes))"
   ]
  },
  {
   "cell_type": "code",
   "execution_count": null,
   "id": "477dfc9b-2ffb-4d23-b01f-d72baa38b8e3",
   "metadata": {},
   "outputs": [],
   "source": []
  }
 ],
 "metadata": {
  "kernelspec": {
   "display_name": "Python 3 (ipykernel)",
   "language": "python",
   "name": "python3"
  },
  "language_info": {
   "codemirror_mode": {
    "name": "ipython",
    "version": 3
   },
   "file_extension": ".py",
   "mimetype": "text/x-python",
   "name": "python",
   "nbconvert_exporter": "python",
   "pygments_lexer": "ipython3",
   "version": "3.11.7"
  }
 },
 "nbformat": 4,
 "nbformat_minor": 5
}
